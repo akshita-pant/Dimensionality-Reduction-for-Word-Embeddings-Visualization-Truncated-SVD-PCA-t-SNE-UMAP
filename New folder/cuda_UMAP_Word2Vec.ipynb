{
 "cells": [
  {
   "cell_type": "code",
   "execution_count": 1,
   "metadata": {},
   "outputs": [],
   "source": [
    "import numpy as np\n",
    "import gensim.downloader as api\n",
    "from sklearn.decomposition import PCA\n",
    "from scipy.stats import spearmanr\n",
    "import os\n",
    "from gensim.models import KeyedVectors\n",
    "from sklearn.metrics import mean_squared_error\n",
    "from cuml.manifold import UMAP\n",
    "import csv\n",
    "import pandas as pd"
   ]
  },
  {
   "cell_type": "code",
   "execution_count": 2,
   "metadata": {},
   "outputs": [],
   "source": [
    "class ReducedEmbeddingModel:\n",
    "    def __init__(self, vectors, index_to_key):\n",
    "        self.vectors = vectors\n",
    "        self.index_to_key = index_to_key\n",
    "        self.key_to_index = {word: idx for idx, word in enumerate(index_to_key)}\n",
    "    \n",
    "    def __getitem__(self, word):\n",
    "        if word in self.key_to_index:\n",
    "            return self.vectors[self.key_to_index[word]]\n",
    "        raise KeyError(f\"Word '{word}' not found in vocabulary\")\n",
    "    \n",
    "    def __contains__(self, word):\n",
    "        return word in self.key_to_index\n",
    "\n",
    "\n",
    "def load_word2vec_model(file_path):\n",
    "    \"\"\"Loads Word2Vec embeddings from a binary file.\"\"\"\n",
    "    print(\"Loading Word2Vec model...\")\n",
    "    wv = KeyedVectors.load_word2vec_format(file_path, binary=True)\n",
    "    vectors = wv.vectors\n",
    "    index_to_key = wv.index_to_key\n",
    "    return ReducedEmbeddingModel(vectors, index_to_key)        \n",
    "\n",
    "def load_similarity_dataset(file_path):\n",
    "\n",
    "  data = []\n",
    "  with open(file_path, 'r') as file:\n",
    "        next(file)  # Skip header\n",
    "        for line in file:\n",
    "            parts = line.strip().split('\\t')\n",
    "            word1, word2, similarity_score = parts[0], parts[1], float(parts[3])\n",
    "            data.append((word1, word2, similarity_score))\n",
    "  return data\n",
    "\n",
    "# Cosine similarity function for similarity evaluation\n",
    "def cosine_similarity(v1, v2):\n",
    "    norm1 = np.linalg.norm(v1)\n",
    "    norm2 = np.linalg.norm(v2)\n",
    "    if norm1 == 0 or norm2 == 0:\n",
    "        return 0\n",
    "    return np.dot(v1, v2) / (norm1 * norm2)\n",
    "\n",
    "# Evaluate embeddings on the SimLex-999 data\n",
    "def evaluate_embeddings(model, word_pairs):\n",
    "    predicted_scores = []\n",
    "    true_scores = []\n",
    "    \n",
    "    for word1, word2, true_score in word_pairs:\n",
    "        if word1 in model and word2 in model:\n",
    "            sim_score = cosine_similarity(model[word1], model[word2])\n",
    "            predicted_scores.append(sim_score)\n",
    "            true_scores.append(true_score)\n",
    "    \n",
    "    # Calculate Spearman correlation for word similarity performance\n",
    "    correlation, _ = spearmanr(true_scores, predicted_scores)\n",
    "    return correlation"
   ]
  },
  {
   "cell_type": "code",
   "execution_count": 3,
   "metadata": {},
   "outputs": [],
   "source": [
    "def task_driven_dimensionality_reduction_umap(embeddings, word_pairs, model, target_dim=3, n_neighbors=15, min_dist=0.1):\n",
    "    \"\"\"\n",
    "    Perform task-driven dimensionality reduction using UMAP.\n",
    "    \"\"\"\n",
    "    # Initialize UMAP for dimensionality reduction\n",
    "    umap_reducer = UMAP(n_components=target_dim, n_neighbors=15, min_dist=min_dist, metric='cosine')\n",
    "    reduced_embeddings = umap_reducer.fit_transform(embeddings)\n",
    "    \n",
    "    # Create a reduced model\n",
    "    optimized_model = {word: reduced_embeddings[i] for i, word in enumerate(model.index_to_key)}\n",
    "    \n",
    "    # Evaluate the reduction\n",
    "    correlation = evaluate_embeddings(optimized_model, word_pairs)\n",
    "    print(f\"Spearman Correlation with UMAP (n_neighbors={15}, min_dist={min_dist}): {correlation:.4f}\")\n",
    "    \n",
    "    return reduced_embeddings, correlation"
   ]
  },
  {
   "cell_type": "code",
   "execution_count": 4,
   "metadata": {},
   "outputs": [],
   "source": [
    "word2vec_file_path = '/teamspace/uploads/GoogleNews-vectors-negative300.bin'  # Path to your Word2Vec binary file\n",
    "simlex_file_path = '/teamspace/studios/pca/SimLex-999.txt'   \n",
    "target_dim = 2  # Target dimensionality for UMAP reduction"
   ]
  },
  {
   "cell_type": "code",
   "execution_count": 5,
   "metadata": {},
   "outputs": [
    {
     "name": "stdout",
     "output_type": "stream",
     "text": [
      "Loading Word2Vec model...\n"
     ]
    },
    {
     "name": "stdout",
     "output_type": "stream",
     "text": [
      "Loading similarity dataset...\n"
     ]
    }
   ],
   "source": [
    "# Load Word2Vec model\n",
    "original_model = load_word2vec_model(word2vec_file_path)\n",
    "\n",
    "print(\"Loading similarity dataset...\")\n",
    "word_pairs = load_similarity_dataset(simlex_file_path)"
   ]
  },
  {
   "cell_type": "code",
   "execution_count": 6,
   "metadata": {},
   "outputs": [],
   "source": [
    "# Save the 2D embeddings with word labels to a CSV file\n",
    "def save_embeddings_to_csv(words, embeddings, file_path):\n",
    "    print(f\"Saving 2D embeddings to {file_path}...\")\n",
    "    df = pd.DataFrame(embeddings, columns=['x', 'y'])\n",
    "    df['word'] = words\n",
    "    df.to_csv(file_path, index=False)\n",
    "    print(\"2D embeddings saved successfully.\")"
   ]
  },
  {
   "cell_type": "code",
   "execution_count": 7,
   "metadata": {},
   "outputs": [
    {
     "name": "stdout",
     "output_type": "stream",
     "text": [
      "UMAP Dimensionality Reduction Results:\n",
      "Spearman Correlation with UMAP (n_neighbors=15, min_dist=0.1): 0.1723\n",
      "Spearman Correlation at min_dist=0.1: 0.1723\n",
      "Spearman Correlation with UMAP (n_neighbors=15, min_dist=0.2): 0.1934\n",
      "Spearman Correlation at min_dist=0.2: 0.1934\n",
      "Spearman Correlation with UMAP (n_neighbors=15, min_dist=0.3): 0.1707\n",
      "Spearman Correlation at min_dist=0.3: 0.1707\n",
      "Spearman Correlation with UMAP (n_neighbors=15, min_dist=0.4): 0.1614\n",
      "Spearman Correlation at min_dist=0.4: 0.1614\n",
      "Spearman Correlation with UMAP (n_neighbors=15, min_dist=0.5): 0.1772\n",
      "Spearman Correlation at min_dist=0.5: 0.1772\n",
      "\n",
      "Final Optimized Spearman Correlation at 2D: 0.1934\n",
      "Optimal UMAP Parameters: {'min_dist': 0.2, 'n_neighbors': 15}\n"
     ]
    }
   ],
   "source": [
    "# Initialize a list to store correlations for each min_dist value\n",
    "correlations = []\n",
    "\n",
    "# UMAP Dimensionality Reduction Loop\n",
    "min_dist_values = [round(i * 0.1, 1) for i in range(1, 6)]  \n",
    "n_neighbors = 15\n",
    "best_correlation = -1\n",
    "best_params = {}\n",
    "optimized_embeddings = None\n",
    "\n",
    "print(\"UMAP Dimensionality Reduction Results:\")\n",
    "for min_dist in min_dist_values:\n",
    "    # Apply UMAP with the current min_dist and fixed n_neighbors\n",
    "    current_embeddings, current_correlation = task_driven_dimensionality_reduction_umap(\n",
    "        original_model.vectors, \n",
    "        word_pairs=word_pairs, \n",
    "        model=original_model,\n",
    "        target_dim=target_dim,\n",
    "        min_dist=min_dist,\n",
    "        n_neighbors=n_neighbors\n",
    "    )\n",
    "    \n",
    "    # Print and track results\n",
    "    print(f\"Spearman Correlation at min_dist={min_dist:.1f}: {current_correlation:.4f}\")\n",
    "    correlations.append(current_correlation)  # Store correlation for each min_dist\n",
    "    if current_correlation > best_correlation:\n",
    "        best_correlation = current_correlation\n",
    "        best_params = {\"min_dist\": min_dist, \"n_neighbors\": n_neighbors}\n",
    "        optimized_embeddings = current_embeddings\n",
    "\n",
    "# Final results\n",
    "print(f\"\\nFinal Optimized Spearman Correlation at {target_dim}D: {best_correlation:.4f}\")\n",
    "print(f\"Optimal UMAP Parameters: {best_params}\")\n",
    "#103m 5.0s"
   ]
  },
  {
   "cell_type": "code",
   "execution_count": 8,
   "metadata": {},
   "outputs": [
    {
     "name": "stdout",
     "output_type": "stream",
     "text": [
      "Saving 2D embeddings to Word2Vec_UMAP_2d_word_embeddings_1234.csv...\n",
      "2D embeddings saved successfully.\n"
     ]
    }
   ],
   "source": [
    "# Get words and their high-dimensional embeddings\n",
    "words = original_model.index_to_key  # List of words in vocabulary\n",
    "############# CHANGE NAME BY ADDING RESULT VALUE\n",
    "file_path=\"Word2Vec_UMAP_2d_word_embeddings_1234.csv\"\n",
    "# Save the embeddings and words to a CSV file\n",
    "############# REPLACE optimized_embeddings WITH THE BEST ONE!\n",
    "save_embeddings_to_csv(words, optimized_embeddings, file_path)"
   ]
  },
  {
   "cell_type": "code",
   "execution_count": 7,
   "metadata": {},
   "outputs": [
    {
     "name": "stdout",
     "output_type": "stream",
     "text": [
      "UMAP Dimensionality Reduction Results:\n",
      "Spearman Correlation with UMAP (n_neighbors=15, min_dist=0.6): 0.1663\n",
      "Spearman Correlation at min_dist=0.6: 0.1663\n",
      "Spearman Correlation with UMAP (n_neighbors=15, min_dist=0.7): 0.1658\n",
      "Spearman Correlation at min_dist=0.7: 0.1658\n",
      "Spearman Correlation with UMAP (n_neighbors=15, min_dist=0.8): 0.1482\n",
      "Spearman Correlation at min_dist=0.8: 0.1482\n",
      "Spearman Correlation with UMAP (n_neighbors=15, min_dist=0.9): 0.1699\n",
      "Spearman Correlation at min_dist=0.9: 0.1699\n",
      "Spearman Correlation with UMAP (n_neighbors=15, min_dist=1.0): 0.1563\n",
      "Spearman Correlation at min_dist=1.0: 0.1563\n",
      "\n",
      "Final Optimized Spearman Correlation at 2D: 0.1699\n",
      "Optimal UMAP Parameters: {'min_dist': 0.9, 'n_neighbors': 15}\n"
     ]
    }
   ],
   "source": [
    "# Initialize a list to store correlations for each min_dist value\n",
    "correlations = []\n",
    "\n",
    "# UMAP Dimensionality Reduction Loop\n",
    "min_dist_values = [round(i * 0.1, 1) for i in range(6, 11)]  \n",
    "n_neighbors = 15\n",
    "best_correlation = -1\n",
    "best_params = {}\n",
    "optimized_embeddings = None\n",
    "\n",
    "print(\"UMAP Dimensionality Reduction Results:\")\n",
    "for min_dist in min_dist_values:\n",
    "    # Apply UMAP with the current min_dist and fixed n_neighbors\n",
    "    current_embeddings, current_correlation = task_driven_dimensionality_reduction_umap(\n",
    "        original_model.vectors, \n",
    "        word_pairs=word_pairs, \n",
    "        model=original_model,\n",
    "        target_dim=target_dim,\n",
    "        min_dist=min_dist,\n",
    "        n_neighbors=n_neighbors\n",
    "    )\n",
    "    \n",
    "    # Print and track results\n",
    "    print(f\"Spearman Correlation at min_dist={min_dist:.1f}: {current_correlation:.4f}\")\n",
    "    correlations.append(current_correlation)  # Store correlation for each min_dist\n",
    "    if current_correlation > best_correlation:\n",
    "        best_correlation = current_correlation\n",
    "        best_params = {\"min_dist\": min_dist, \"n_neighbors\": n_neighbors}\n",
    "        optimized_embeddings = current_embeddings\n",
    "\n",
    "# Final results\n",
    "print(f\"\\nFinal Optimized Spearman Correlation at {target_dim}D: {best_correlation:.4f}\")\n",
    "print(f\"Optimal UMAP Parameters: {best_params}\")\n",
    "#97m 29.0s"
   ]
  },
  {
   "cell_type": "code",
   "execution_count": 8,
   "metadata": {},
   "outputs": [
    {
     "name": "stdout",
     "output_type": "stream",
     "text": [
      "Saving 2D embeddings to Word2Vec_UMAP_2d_word_embeddings_new.csv...\n",
      "2D embeddings saved successfully.\n"
     ]
    }
   ],
   "source": [
    "# Get words and their high-dimensional embeddings\n",
    "words = original_model.index_to_key  # List of words in vocabulary\n",
    "############# CHANGE NAME BY ADDING RESULT VALUE\n",
    "file_path=\"Word2Vec_UMAP_2d_word_embeddings_new.csv\"\n",
    "# Save the embeddings and words to a CSV file\n",
    "############# REPLACE optimized_embeddings WITH THE BEST ONE!\n",
    "save_embeddings_to_csv(words, optimized_embeddings, file_path)"
   ]
  },
  {
   "cell_type": "code",
   "execution_count": 1,
   "metadata": {},
   "outputs": [
    {
     "data": {
      "image/png": "[encoded data removed]",
      "text/plain": [
       "<Figure size 640x480 with 1 Axes>"
      ]
     },
     "metadata": {},
     "output_type": "display_data"
    }
   ],
   "source": [
    "import matplotlib.pyplot as plt\n",
    "import numpy as np\n",
    "\n",
    "spearman_correlations_n15_1 = [0.1920, 0.1630, 0.1921, 0.1708, 0.1565, 0.1832, 0.1615, 0.1966, 0.1430, 0.1677]\n",
    "spearman_correlations_n15_2 = [0.1559, 0.1714, 0.2035, 0.1615, 0.1575, 0.1399, 0.1449, 0.1707, 0.1924, 0.1702]\n",
    "spearman_correlations_n15_3 = [0.1845, 0.1731, 0.2101, 0.1334, 0.1769, 0.1776, 0.1999, 0.1750, 0.1731, 0.1648]\n",
    "spearman_correlations_n15_4 = [0.1795, 0.1465, 0.1898, 0.1844, 0.1589, 0.2447, 0.1557, 0.1527, 0.2140, 0.1664]\n",
    "spearman_correlations_n15_5 = [0.1723, 0.1934, 0.1707, 0.1614, 0.1772, 0.1663, 0.1658, 0.1482, 0.1699, 0.1563]\n",
    "\n",
    "all_lists = [\n",
    "    spearman_correlations_n15_1,\n",
    "    spearman_correlations_n15_2,\n",
    "    spearman_correlations_n15_3,\n",
    "    spearman_correlations_n15_4,\n",
    "    spearman_correlations_n15_5,\n",
    "]\n",
    "\n",
    "# Calculate the average value for each index across all lists\n",
    "index_averages = []\n",
    "for i in range(len(spearman_correlations_n15_1)):\n",
    "    index_values = [lst[i] for lst in all_lists]\n",
    "    index_average = sum(index_values) / len(index_values)\n",
    "    index_averages.append(index_average)\n",
    "\n",
    "# Create a list of minimum distance values from 0.1 to 1.0 with intervals of 0.1\n",
    "distance_values = np.arange(0.1, 1.1, 0.1)  # [0.1, 0.2, 0.3, ..., 0.9, 1.0]\n",
    "\n",
    "# Plot the index averages in a line graph\n",
    "plt.plot(distance_values, index_averages, marker='o')\n",
    "\n",
    "# Add labels and title\n",
    "plt.xlabel(\"Minimum Distance Value\")\n",
    "plt.ylabel(\"Average Spearman Correlation\")\n",
    "plt.title(\"Average Spearman Correlation Across Different Minimum Distance Values\")\n",
    "\n",
    "# Customize the x-axis ticks\n",
    "plt.xticks(distance_values)\n",
    "\n",
    "# Display the plot\n",
    "plt.show()"
   ]
  }
 ],
 "metadata": {
  "language_info": {
   "name": "python"
  }
 },
 "nbformat": 4,
 "nbformat_minor": 2
}
