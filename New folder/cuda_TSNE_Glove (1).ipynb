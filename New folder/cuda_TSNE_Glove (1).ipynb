{
 "cells": [
  {
   "cell_type": "code",
   "execution_count": 1,
   "metadata": {},
   "outputs": [],
   "source": [
    "import numpy as np\n",
    "import gensim.downloader as api\n",
    "from scipy.stats import spearmanr\n",
    "import os\n",
    "from cuml.manifold import TSNE\n",
    "import cudf\n",
    "import numpy as np\n",
    "import cupy as cp"
   ]
  },
  {
   "cell_type": "code",
   "execution_count": 2,
   "metadata": {},
   "outputs": [],
   "source": [
    "class ReducedEmbeddingModel: \n",
    "    def __init__(self, vectors, index_to_key):\n",
    "        self.vectors = vectors\n",
    "        self.index_to_key = index_to_key\n",
    "        self.key_to_index = {word: idx for idx, word in enumerate(index_to_key)}\n",
    "    \n",
    "    def __getitem__(self, word):\n",
    "        if word in self.key_to_index:\n",
    "            return self.vectors[self.key_to_index[word]]\n",
    "        raise KeyError(f\"Word '{word}' not found in vocabulary\")\n",
    "    \n",
    "    def __contains__(self, word):\n",
    "        return word in self.key_to_index\n",
    "\n",
    "def load_glove_model(file_path):\n",
    "    \"\"\"Loads GloVe embeddings from a text file.\"\"\"\n",
    "    index_to_key = []\n",
    "    vectors = []\n",
    "    with open(file_path, 'r', encoding='utf-8') as f:\n",
    "        for line in f:\n",
    "            parts = line.split()\n",
    "            word = parts[0]\n",
    "            vector = np.array(parts[1:], dtype=np.float32)\n",
    "            index_to_key.append(word)\n",
    "            vectors.append(vector)\n",
    "    vectors = np.vstack(vectors)\n",
    "    return ReducedEmbeddingModel(vectors, index_to_key)\n",
    "\n",
    "    \n",
    "import time\n",
    "\n",
    "def tsne_dimensionality_reduction(embeddings, target_dim, perplexity, learning_rate=200):\n",
    "    \"\"\"\n",
    "    Reduces dimensions of embeddings using GPU-accelerated t-SNE.\n",
    "      \n",
    "    Parameters:\n",
    "        embeddings (numpy.ndarray): Input high-dimensional embeddings (e.g., FastText) as a NumPy array.\n",
    "        target_dim (int): Number of dimensions for the reduced space. Default is 2.\n",
    "        perplexity (float): t-SNE perplexity parameter. Default is 30.\n",
    "        learning_rate (float): Learning rate for optimization. Default is 200.\n",
    "\n",
    "    Returns:\n",
    "        numpy.ndarray: Reduced dimensionality embeddings.\n",
    "    \"\"\"\n",
    "    print(f\"Loading embeddings into GPU memory and initializing t-SNE with {target_dim} dimensions...\")\n",
    "\n",
    "    # Convert embeddings to a GPU DataFrame (cudf)\n",
    "    embeddings_gpu = cudf.DataFrame.from_records(embeddings)\n",
    "\n",
    "    # Initialize GPU-accelerated t-SNE\n",
    "    tsne = TSNE(\n",
    "        n_components=target_dim,\n",
    "        perplexity=perplexity,\n",
    "        learning_rate=learning_rate,\n",
    "        random_state=42,  # For reproducibility\n",
    "        verbose=1         # Enables progress output\n",
    "    )\n",
    "\n",
    "    print(\"Starting t-SNE dimensionality reduction...\")\n",
    "    start_time = time.time()  # Start timing\n",
    "\n",
    "    # Perform dimensionality reduction\n",
    "    reduced_embeddings = tsne.fit_transform(embeddings_gpu)\n",
    "\n",
    "    end_time = time.time()  # End timing\n",
    "    elapsed_time = end_time - start_time\n",
    "    print(f\"t-SNE completed in {elapsed_time:.2f} seconds.\")\n",
    "\n",
    "    return reduced_embeddings.to_pandas().to_numpy()  # Convert back to NumPy array if needed\n",
    "\n",
    "# Load SimLex-999 word similarity data\n",
    "def load_simlex_999(file_path):\n",
    "    \"\"\"Loads SimLex-999 and returns word pairs with similarity scores.\"\"\"\n",
    "    data = []\n",
    "    with open(file_path, 'r') as file:\n",
    "        next(file)  # Skip the header\n",
    "        for line in file:\n",
    "            parts = line.strip().split('\\t')\n",
    "            word1, word2, similarity_score = parts[0], parts[1], float(parts[3])\n",
    "            data.append((word1, word2, similarity_score))\n",
    "    return data\n",
    "\n",
    "# Cosine similarity function for similarity evaluation\n",
    "def cosine_similarity(v1, v2):\n",
    "    \"\"\"Calculates cosine similarity between two vectors.\"\"\"\n",
    "    norm1 = np.linalg.norm(v1)\n",
    "    norm2 = np.linalg.norm(v2)\n",
    "    if norm1 == 0 or norm2 == 0:\n",
    "        return 0\n",
    "    return np.dot(v1, v2) / (norm1 * norm2)\n",
    "\n",
    "# Evaluate embeddings on the SimLex-999 data\n",
    "def evaluate_embeddings(model, word_pairs):\n",
    "    \"\"\"Evaluates embeddings using SimLex-999 data and Spearman correlation.\"\"\"\n",
    "    predicted_scores = []\n",
    "    true_scores = []\n",
    "\n",
    "    for word1, word2, true_score in word_pairs:\n",
    "        if word1 in model and word2 in model:\n",
    "            sim_score = cosine_similarity(model[word1], model[word2])\n",
    "            predicted_scores.append(sim_score)\n",
    "            true_scores.append(true_score)\n",
    "\n",
    "    # Calculate Spearman correlation for word similarity performance\n",
    "    correlation, _ = spearmanr(true_scores, predicted_scores)\n",
    "    return correlation"
   ]
  },
  {
   "cell_type": "code",
   "execution_count": 3,
   "metadata": {},
   "outputs": [],
   "source": [
    "glove_file_path = '/teamspace/uploads/glove.6B.300d.txt'  # Update this path to your GloVe file\n",
    "simlex_file_path = '/teamspace/studios/pca/SimLex-999.txt'  # Update this path to your SimLex-999 file\n",
    "target_dim = 2  # Adjust target_dim as needed for testing (e.g., 150, 100, 50)"
   ]
  },
  {
   "cell_type": "code",
   "execution_count": 4,
   "metadata": {},
   "outputs": [
    {
     "name": "stdout",
     "output_type": "stream",
     "text": [
      "Loading GloVe model...\n"
     ]
    }
   ],
   "source": [
    "print(\"Loading GloVe model...\")\n",
    "original_model = load_glove_model(glove_file_path)"
   ]
  },
  {
   "cell_type": "code",
   "execution_count": 5,
   "metadata": {},
   "outputs": [],
   "source": [
    "word_pairs = load_simlex_999(simlex_file_path)"
   ]
  },
  {
   "cell_type": "code",
   "execution_count": 6,
   "metadata": {},
   "outputs": [
    {
     "name": "stdout",
     "output_type": "stream",
     "text": [
      "\n",
      "Performing t-SNE with perplexity=30...\n",
      "Loading embeddings into GPU memory and initializing t-SNE with 2 dimensions...\n"
     ]
    },
    {
     "name": "stderr",
     "output_type": "stream",
     "text": [
      "/home/zeus/miniconda3/envs/cloudspace/lib/python3.10/site-packages/cuml/internals/api_decorators.py:344: UserWarning: Starting from version 22.04, the default method of TSNE is 'fft'.\n",
      "  return func(**kwargs)\n"
     ]
    },
    {
     "name": "stdout",
     "output_type": "stream",
     "text": [
      "Starting t-SNE dimensionality reduction...\n",
      "t-SNE completed in 54.17 seconds.\n",
      "Spearman Correlation for perplexity=30: 0.0210\n",
      "\n",
      "Summary of Spearman correlations across perplexities:\n",
      "Perplexity=30: Spearman Correlation=0.0210\n",
      "BEST Spearman Correlation =  0.020980104430962612\n"
     ]
    }
   ],
   "source": [
    "# Initialize a dictionary to store results for each perplexity value\n",
    "results = {}\n",
    "best_result = -100.0\n",
    "optimized_embeddings1 = None\n",
    "\n",
    "# List of perplexity values to evaluate\n",
    "perplexities = [30]\n",
    "# Perform t-SNE and evaluate embeddings for each perplexity value\n",
    "for perplexity in perplexities:\n",
    "    print(f\"\\nPerforming t-SNE with perplexity={perplexity}...\")\n",
    "    \n",
    "    # Perform t-SNE dimensionality reduction\n",
    "    reduced_embeddings = tsne_dimensionality_reduction(original_model.vectors, target_dim=2, perplexity=perplexity, learning_rate=200)\n",
    "    \n",
    "    # Create a dictionary with the reduced embeddings for evaluation\n",
    "    reduced_model = {word: reduced_embeddings[i] for i, word in enumerate(original_model.index_to_key)}\n",
    "    \n",
    "    # Evaluate the reduced embeddings on SimLex-999\n",
    "    correlation = evaluate_embeddings(reduced_model, word_pairs)\n",
    "    \n",
    "    # Store results\n",
    "    results[perplexity] = correlation\n",
    "\n",
    "    if(correlation > best_result):\n",
    "        best_result = correlation\n",
    "        optimized_embeddings1 = reduced_embeddings\n",
    "    \n",
    "    # Print Spearman correlation for the current perplexity\n",
    "    print(f\"Spearman Correlation for perplexity={perplexity}: {correlation:.4f}\")\n",
    "\n",
    "# Print a summary of all results\n",
    "print(\"\\nSummary of Spearman correlations across perplexities:\")\n",
    "for perplexity, correlation in results.items():\n",
    "    print(f\"Perplexity={perplexity}: Spearman Correlation={correlation:.4f}\")\n",
    "\n",
    "print(\"BEST Spearman Correlation = \", best_result)"
   ]
  },
  {
   "cell_type": "code",
   "execution_count": 6,
   "metadata": {},
   "outputs": [
    {
     "name": "stdout",
     "output_type": "stream",
     "text": [
      "\n",
      "Performing t-SNE with perplexity=5...\n",
      "Loading embeddings into GPU memory and initializing t-SNE with 2 dimensions...\n"
     ]
    },
    {
     "name": "stderr",
     "output_type": "stream",
     "text": [
      "/home/zeus/miniconda3/envs/cloudspace/lib/python3.10/site-packages/cuml/internals/api_decorators.py:344: UserWarning: Starting from version 22.04, the default method of TSNE is 'fft'.\n",
      "  return func(**kwargs)\n"
     ]
    },
    {
     "name": "stdout",
     "output_type": "stream",
     "text": [
      "Starting t-SNE dimensionality reduction...\n",
      "t-SNE completed in 54.31 seconds.\n",
      "Spearman Correlation for perplexity=5: 0.1138\n",
      "\n",
      "Performing t-SNE with perplexity=15...\n",
      "Loading embeddings into GPU memory and initializing t-SNE with 2 dimensions...\n"
     ]
    },
    {
     "name": "stderr",
     "output_type": "stream",
     "text": [
      "/home/zeus/miniconda3/envs/cloudspace/lib/python3.10/site-packages/cuml/internals/api_decorators.py:344: UserWarning: Starting from version 22.04, the default method of TSNE is 'fft'.\n",
      "  return func(**kwargs)\n"
     ]
    },
    {
     "name": "stdout",
     "output_type": "stream",
     "text": [
      "Starting t-SNE dimensionality reduction...\n",
      "t-SNE completed in 54.83 seconds.\n",
      "Spearman Correlation for perplexity=15: 0.1660\n",
      "\n",
      "Performing t-SNE with perplexity=25...\n",
      "Loading embeddings into GPU memory and initializing t-SNE with 2 dimensions...\n"
     ]
    },
    {
     "name": "stderr",
     "output_type": "stream",
     "text": [
      "/home/zeus/miniconda3/envs/cloudspace/lib/python3.10/site-packages/cuml/internals/api_decorators.py:344: UserWarning: Starting from version 22.04, the default method of TSNE is 'fft'.\n",
      "  return func(**kwargs)\n"
     ]
    },
    {
     "name": "stdout",
     "output_type": "stream",
     "text": [
      "Starting t-SNE dimensionality reduction...\n",
      "t-SNE completed in 54.97 seconds.\n",
      "Spearman Correlation for perplexity=25: 0.1300\n",
      "\n",
      "Performing t-SNE with perplexity=35...\n",
      "Loading embeddings into GPU memory and initializing t-SNE with 2 dimensions...\n"
     ]
    },
    {
     "name": "stderr",
     "output_type": "stream",
     "text": [
      "/home/zeus/miniconda3/envs/cloudspace/lib/python3.10/site-packages/cuml/internals/api_decorators.py:344: UserWarning: Starting from version 22.04, the default method of TSNE is 'fft'.\n",
      "  return func(**kwargs)\n"
     ]
    },
    {
     "name": "stdout",
     "output_type": "stream",
     "text": [
      "Starting t-SNE dimensionality reduction...\n",
      "t-SNE completed in 55.56 seconds.\n",
      "Spearman Correlation for perplexity=35: 0.0948\n",
      "\n",
      "Performing t-SNE with perplexity=45...\n",
      "Loading embeddings into GPU memory and initializing t-SNE with 2 dimensions...\n"
     ]
    },
    {
     "name": "stderr",
     "output_type": "stream",
     "text": [
      "/home/zeus/miniconda3/envs/cloudspace/lib/python3.10/site-packages/cuml/internals/api_decorators.py:344: UserWarning: Starting from version 22.04, the default method of TSNE is 'fft'.\n",
      "  return func(**kwargs)\n"
     ]
    },
    {
     "name": "stdout",
     "output_type": "stream",
     "text": [
      "Starting t-SNE dimensionality reduction...\n",
      "t-SNE completed in 56.31 seconds.\n",
      "Spearman Correlation for perplexity=45: 0.0385\n",
      "\n",
      "Performing t-SNE with perplexity=55...\n",
      "Loading embeddings into GPU memory and initializing t-SNE with 2 dimensions...\n"
     ]
    },
    {
     "name": "stderr",
     "output_type": "stream",
     "text": [
      "/home/zeus/miniconda3/envs/cloudspace/lib/python3.10/site-packages/cuml/internals/api_decorators.py:344: UserWarning: Starting from version 22.04, the default method of TSNE is 'fft'.\n",
      "  return func(**kwargs)\n"
     ]
    },
    {
     "name": "stdout",
     "output_type": "stream",
     "text": [
      "Starting t-SNE dimensionality reduction...\n",
      "t-SNE completed in 56.03 seconds.\n",
      "Spearman Correlation for perplexity=55: 0.0945\n",
      "\n",
      "Performing t-SNE with perplexity=65...\n",
      "Loading embeddings into GPU memory and initializing t-SNE with 2 dimensions...\n"
     ]
    },
    {
     "name": "stderr",
     "output_type": "stream",
     "text": [
      "/home/zeus/miniconda3/envs/cloudspace/lib/python3.10/site-packages/cuml/internals/api_decorators.py:344: UserWarning: Starting from version 22.04, the default method of TSNE is 'fft'.\n",
      "  return func(**kwargs)\n"
     ]
    },
    {
     "name": "stdout",
     "output_type": "stream",
     "text": [
      "Starting t-SNE dimensionality reduction...\n",
      "t-SNE completed in 56.72 seconds.\n",
      "Spearman Correlation for perplexity=65: 0.0933\n",
      "\n",
      "Performing t-SNE with perplexity=75...\n",
      "Loading embeddings into GPU memory and initializing t-SNE with 2 dimensions...\n"
     ]
    },
    {
     "name": "stderr",
     "output_type": "stream",
     "text": [
      "/home/zeus/miniconda3/envs/cloudspace/lib/python3.10/site-packages/cuml/internals/api_decorators.py:344: UserWarning: Starting from version 22.04, the default method of TSNE is 'fft'.\n",
      "  return func(**kwargs)\n"
     ]
    },
    {
     "name": "stdout",
     "output_type": "stream",
     "text": [
      "Starting t-SNE dimensionality reduction...\n",
      "t-SNE completed in 56.44 seconds.\n",
      "Spearman Correlation for perplexity=75: 0.0049\n",
      "\n",
      "Performing t-SNE with perplexity=85...\n",
      "Loading embeddings into GPU memory and initializing t-SNE with 2 dimensions...\n"
     ]
    },
    {
     "name": "stderr",
     "output_type": "stream",
     "text": [
      "/home/zeus/miniconda3/envs/cloudspace/lib/python3.10/site-packages/cuml/internals/api_decorators.py:344: UserWarning: Starting from version 22.04, the default method of TSNE is 'fft'.\n",
      "  return func(**kwargs)\n"
     ]
    },
    {
     "name": "stdout",
     "output_type": "stream",
     "text": [
      "Starting t-SNE dimensionality reduction...\n",
      "t-SNE completed in 56.75 seconds.\n",
      "Spearman Correlation for perplexity=85: -0.0277\n",
      "\n",
      "Performing t-SNE with perplexity=95...\n",
      "Loading embeddings into GPU memory and initializing t-SNE with 2 dimensions...\n"
     ]
    },
    {
     "name": "stderr",
     "output_type": "stream",
     "text": [
      "/home/zeus/miniconda3/envs/cloudspace/lib/python3.10/site-packages/cuml/internals/api_decorators.py:344: UserWarning: Starting from version 22.04, the default method of TSNE is 'fft'.\n",
      "  return func(**kwargs)\n"
     ]
    },
    {
     "name": "stdout",
     "output_type": "stream",
     "text": [
      "Starting t-SNE dimensionality reduction...\n",
      "t-SNE completed in 56.13 seconds.\n",
      "Spearman Correlation for perplexity=95: 0.0338\n",
      "\n",
      "Summary of Spearman correlations across perplexities:\n",
      "Perplexity=5: Spearman Correlation=0.1138\n",
      "Perplexity=15: Spearman Correlation=0.1660\n",
      "Perplexity=25: Spearman Correlation=0.1300\n",
      "Perplexity=35: Spearman Correlation=0.0948\n",
      "Perplexity=45: Spearman Correlation=0.0385\n",
      "Perplexity=55: Spearman Correlation=0.0945\n",
      "Perplexity=65: Spearman Correlation=0.0933\n",
      "Perplexity=75: Spearman Correlation=0.0049\n",
      "Perplexity=85: Spearman Correlation=-0.0277\n",
      "Perplexity=95: Spearman Correlation=0.0338\n",
      "BEST Spearman Correlation =  0.1659752542858248\n"
     ]
    }
   ],
   "source": [
    "# Initialize a dictionary to store results for each perplexity value\n",
    "results = {}\n",
    "best_result = -100.0\n",
    "optimized_embeddings1 = None\n",
    "\n",
    "# List of perplexity values to evaluate\n",
    "perplexities = [5, 15, 25, 35, 45, 55, 65, 75, 85, 95]\n",
    "# Perform t-SNE and evaluate embeddings for each perplexity value\n",
    "for perplexity in perplexities:\n",
    "    print(f\"\\nPerforming t-SNE with perplexity={perplexity}...\")\n",
    "    \n",
    "    # Perform t-SNE dimensionality reduction\n",
    "    reduced_embeddings = tsne_dimensionality_reduction(original_model.vectors, target_dim=2, perplexity=perplexity, learning_rate=200)\n",
    "    \n",
    "    # Create a dictionary with the reduced embeddings for evaluation\n",
    "    reduced_model = {word: reduced_embeddings[i] for i, word in enumerate(original_model.index_to_key)}\n",
    "    \n",
    "    # Evaluate the reduced embeddings on SimLex-999\n",
    "    correlation = evaluate_embeddings(reduced_model, word_pairs)\n",
    "    \n",
    "    # Store results\n",
    "    results[perplexity] = correlation\n",
    "\n",
    "    if(correlation > best_result):\n",
    "        best_result = correlation\n",
    "        optimized_embeddings1 = reduced_embeddings\n",
    "    \n",
    "    # Print Spearman correlation for the current perplexity\n",
    "    print(f\"Spearman Correlation for perplexity={perplexity}: {correlation:.4f}\")\n",
    "\n",
    "# Print a summary of all results\n",
    "print(\"\\nSummary of Spearman correlations across perplexities:\")\n",
    "for perplexity, correlation in results.items():\n",
    "    print(f\"Perplexity={perplexity}: Spearman Correlation={correlation:.4f}\")\n",
    "\n",
    "print(\"BEST Spearman Correlation = \", best_result)"
   ]
  },
  {
   "cell_type": "code",
   "execution_count": 7,
   "metadata": {},
   "outputs": [
    {
     "name": "stdout",
     "output_type": "stream",
     "text": [
      "\n",
      "Performing t-SNE with perplexity=5...\n",
      "Loading embeddings into GPU memory and initializing t-SNE with 2 dimensions...\n"
     ]
    },
    {
     "name": "stderr",
     "output_type": "stream",
     "text": [
      "/home/zeus/miniconda3/envs/cloudspace/lib/python3.10/site-packages/cuml/internals/api_decorators.py:344: UserWarning: Starting from version 22.04, the default method of TSNE is 'fft'.\n",
      "  return func(**kwargs)\n"
     ]
    },
    {
     "name": "stdout",
     "output_type": "stream",
     "text": [
      "Starting t-SNE dimensionality reduction...\n",
      "t-SNE completed in 55.88 seconds.\n",
      "Spearman Correlation for perplexity=5: 0.1399\n",
      "\n",
      "Performing t-SNE with perplexity=15...\n",
      "Loading embeddings into GPU memory and initializing t-SNE with 2 dimensions...\n"
     ]
    },
    {
     "name": "stderr",
     "output_type": "stream",
     "text": [
      "/home/zeus/miniconda3/envs/cloudspace/lib/python3.10/site-packages/cuml/internals/api_decorators.py:344: UserWarning: Starting from version 22.04, the default method of TSNE is 'fft'.\n",
      "  return func(**kwargs)\n"
     ]
    },
    {
     "name": "stdout",
     "output_type": "stream",
     "text": [
      "Starting t-SNE dimensionality reduction...\n",
      "t-SNE completed in 56.76 seconds.\n",
      "Spearman Correlation for perplexity=15: 0.1507\n",
      "\n",
      "Performing t-SNE with perplexity=25...\n",
      "Loading embeddings into GPU memory and initializing t-SNE with 2 dimensions...\n"
     ]
    },
    {
     "name": "stderr",
     "output_type": "stream",
     "text": [
      "/home/zeus/miniconda3/envs/cloudspace/lib/python3.10/site-packages/cuml/internals/api_decorators.py:344: UserWarning: Starting from version 22.04, the default method of TSNE is 'fft'.\n",
      "  return func(**kwargs)\n"
     ]
    },
    {
     "name": "stdout",
     "output_type": "stream",
     "text": [
      "Starting t-SNE dimensionality reduction...\n",
      "t-SNE completed in 57.04 seconds.\n",
      "Spearman Correlation for perplexity=25: 0.0298\n",
      "\n",
      "Performing t-SNE with perplexity=35...\n",
      "Loading embeddings into GPU memory and initializing t-SNE with 2 dimensions...\n"
     ]
    },
    {
     "name": "stderr",
     "output_type": "stream",
     "text": [
      "/home/zeus/miniconda3/envs/cloudspace/lib/python3.10/site-packages/cuml/internals/api_decorators.py:344: UserWarning: Starting from version 22.04, the default method of TSNE is 'fft'.\n",
      "  return func(**kwargs)\n"
     ]
    },
    {
     "name": "stdout",
     "output_type": "stream",
     "text": [
      "Starting t-SNE dimensionality reduction...\n",
      "t-SNE completed in 57.22 seconds.\n",
      "Spearman Correlation for perplexity=35: 0.0412\n",
      "\n",
      "Performing t-SNE with perplexity=45...\n",
      "Loading embeddings into GPU memory and initializing t-SNE with 2 dimensions...\n"
     ]
    },
    {
     "name": "stderr",
     "output_type": "stream",
     "text": [
      "/home/zeus/miniconda3/envs/cloudspace/lib/python3.10/site-packages/cuml/internals/api_decorators.py:344: UserWarning: Starting from version 22.04, the default method of TSNE is 'fft'.\n",
      "  return func(**kwargs)\n"
     ]
    },
    {
     "name": "stdout",
     "output_type": "stream",
     "text": [
      "Starting t-SNE dimensionality reduction...\n",
      "t-SNE completed in 56.36 seconds.\n",
      "Spearman Correlation for perplexity=45: 0.0276\n",
      "\n",
      "Performing t-SNE with perplexity=55...\n",
      "Loading embeddings into GPU memory and initializing t-SNE with 2 dimensions...\n"
     ]
    },
    {
     "name": "stderr",
     "output_type": "stream",
     "text": [
      "/home/zeus/miniconda3/envs/cloudspace/lib/python3.10/site-packages/cuml/internals/api_decorators.py:344: UserWarning: Starting from version 22.04, the default method of TSNE is 'fft'.\n",
      "  return func(**kwargs)\n"
     ]
    },
    {
     "name": "stdout",
     "output_type": "stream",
     "text": [
      "Starting t-SNE dimensionality reduction...\n",
      "t-SNE completed in 57.18 seconds.\n",
      "Spearman Correlation for perplexity=55: 0.0796\n",
      "\n",
      "Performing t-SNE with perplexity=65...\n",
      "Loading embeddings into GPU memory and initializing t-SNE with 2 dimensions...\n"
     ]
    },
    {
     "name": "stderr",
     "output_type": "stream",
     "text": [
      "/home/zeus/miniconda3/envs/cloudspace/lib/python3.10/site-packages/cuml/internals/api_decorators.py:344: UserWarning: Starting from version 22.04, the default method of TSNE is 'fft'.\n",
      "  return func(**kwargs)\n"
     ]
    },
    {
     "name": "stdout",
     "output_type": "stream",
     "text": [
      "Starting t-SNE dimensionality reduction...\n",
      "t-SNE completed in 56.24 seconds.\n",
      "Spearman Correlation for perplexity=65: 0.1047\n",
      "\n",
      "Performing t-SNE with perplexity=75...\n",
      "Loading embeddings into GPU memory and initializing t-SNE with 2 dimensions...\n"
     ]
    },
    {
     "name": "stderr",
     "output_type": "stream",
     "text": [
      "/home/zeus/miniconda3/envs/cloudspace/lib/python3.10/site-packages/cuml/internals/api_decorators.py:344: UserWarning: Starting from version 22.04, the default method of TSNE is 'fft'.\n",
      "  return func(**kwargs)\n"
     ]
    },
    {
     "name": "stdout",
     "output_type": "stream",
     "text": [
      "Starting t-SNE dimensionality reduction...\n",
      "t-SNE completed in 57.36 seconds.\n",
      "Spearman Correlation for perplexity=75: 0.0358\n",
      "\n",
      "Performing t-SNE with perplexity=85...\n",
      "Loading embeddings into GPU memory and initializing t-SNE with 2 dimensions...\n"
     ]
    },
    {
     "name": "stderr",
     "output_type": "stream",
     "text": [
      "/home/zeus/miniconda3/envs/cloudspace/lib/python3.10/site-packages/cuml/internals/api_decorators.py:344: UserWarning: Starting from version 22.04, the default method of TSNE is 'fft'.\n",
      "  return func(**kwargs)\n"
     ]
    },
    {
     "name": "stdout",
     "output_type": "stream",
     "text": [
      "Starting t-SNE dimensionality reduction...\n",
      "t-SNE completed in 57.41 seconds.\n",
      "Spearman Correlation for perplexity=85: 0.0874\n",
      "\n",
      "Performing t-SNE with perplexity=95...\n",
      "Loading embeddings into GPU memory and initializing t-SNE with 2 dimensions...\n"
     ]
    },
    {
     "name": "stderr",
     "output_type": "stream",
     "text": [
      "/home/zeus/miniconda3/envs/cloudspace/lib/python3.10/site-packages/cuml/internals/api_decorators.py:344: UserWarning: Starting from version 22.04, the default method of TSNE is 'fft'.\n",
      "  return func(**kwargs)\n"
     ]
    },
    {
     "name": "stdout",
     "output_type": "stream",
     "text": [
      "Starting t-SNE dimensionality reduction...\n",
      "t-SNE completed in 57.03 seconds.\n",
      "Spearman Correlation for perplexity=95: 0.0374\n",
      "\n",
      "Summary of Spearman correlations across perplexities:\n",
      "Perplexity=5: Spearman Correlation=0.1399\n",
      "Perplexity=15: Spearman Correlation=0.1507\n",
      "Perplexity=25: Spearman Correlation=0.0298\n",
      "Perplexity=35: Spearman Correlation=0.0412\n",
      "Perplexity=45: Spearman Correlation=0.0276\n",
      "Perplexity=55: Spearman Correlation=0.0796\n",
      "Perplexity=65: Spearman Correlation=0.1047\n",
      "Perplexity=75: Spearman Correlation=0.0358\n",
      "Perplexity=85: Spearman Correlation=0.0874\n",
      "Perplexity=95: Spearman Correlation=0.0374\n",
      "BEST Spearman Correlation =  0.15066146034046385\n"
     ]
    }
   ],
   "source": [
    "# Initialize a dictionary to store results for each perplexity value\n",
    "results = {}\n",
    "best_result = -100.0\n",
    "optimized_embeddings2 = None\n",
    "\n",
    "# List of perplexity values to evaluate\n",
    "perplexities = [5, 15, 25, 35, 45, 55, 65, 75, 85, 95]\n",
    "# Perform t-SNE and evaluate embeddings for each perplexity value\n",
    "for perplexity in perplexities:\n",
    "    print(f\"\\nPerforming t-SNE with perplexity={perplexity}...\")\n",
    "    \n",
    "    # Perform t-SNE dimensionality reduction\n",
    "    reduced_embeddings = tsne_dimensionality_reduction(original_model.vectors, target_dim=2, perplexity=perplexity, learning_rate=200)\n",
    "    \n",
    "    # Create a dictionary with the reduced embeddings for evaluation\n",
    "    reduced_model = {word: reduced_embeddings[i] for i, word in enumerate(original_model.index_to_key)}\n",
    "    \n",
    "    # Evaluate the reduced embeddings on SimLex-999\n",
    "    correlation = evaluate_embeddings(reduced_model, word_pairs)\n",
    "    \n",
    "    # Store results\n",
    "    results[perplexity] = correlation\n",
    "\n",
    "    if(correlation > best_result):\n",
    "        best_result = correlation\n",
    "        optimized_embeddings2 = reduced_embeddings\n",
    "    \n",
    "    # Print Spearman correlation for the current perplexity\n",
    "    print(f\"Spearman Correlation for perplexity={perplexity}: {correlation:.4f}\")\n",
    "\n",
    "# Print a summary of all results\n",
    "print(\"\\nSummary of Spearman correlations across perplexities:\")\n",
    "for perplexity, correlation in results.items():\n",
    "    print(f\"Perplexity={perplexity}: Spearman Correlation={correlation:.4f}\")\n",
    "\n",
    "print(\"BEST Spearman Correlation = \", best_result)"
   ]
  },
  {
   "cell_type": "code",
   "execution_count": 8,
   "metadata": {},
   "outputs": [
    {
     "name": "stdout",
     "output_type": "stream",
     "text": [
      "\n",
      "Performing t-SNE with perplexity=5...\n",
      "Loading embeddings into GPU memory and initializing t-SNE with 2 dimensions...\n"
     ]
    },
    {
     "name": "stderr",
     "output_type": "stream",
     "text": [
      "/home/zeus/miniconda3/envs/cloudspace/lib/python3.10/site-packages/cuml/internals/api_decorators.py:344: UserWarning: Starting from version 22.04, the default method of TSNE is 'fft'.\n",
      "  return func(**kwargs)\n"
     ]
    },
    {
     "name": "stdout",
     "output_type": "stream",
     "text": [
      "Starting t-SNE dimensionality reduction...\n",
      "t-SNE completed in 54.87 seconds.\n",
      "Spearman Correlation for perplexity=5: 0.0640\n",
      "\n",
      "Performing t-SNE with perplexity=15...\n",
      "Loading embeddings into GPU memory and initializing t-SNE with 2 dimensions...\n"
     ]
    },
    {
     "name": "stderr",
     "output_type": "stream",
     "text": [
      "/home/zeus/miniconda3/envs/cloudspace/lib/python3.10/site-packages/cuml/internals/api_decorators.py:344: UserWarning: Starting from version 22.04, the default method of TSNE is 'fft'.\n",
      "  return func(**kwargs)\n"
     ]
    },
    {
     "name": "stdout",
     "output_type": "stream",
     "text": [
      "Starting t-SNE dimensionality reduction...\n",
      "t-SNE completed in 56.88 seconds.\n",
      "Spearman Correlation for perplexity=15: 0.0542\n",
      "\n",
      "Performing t-SNE with perplexity=25...\n",
      "Loading embeddings into GPU memory and initializing t-SNE with 2 dimensions...\n"
     ]
    },
    {
     "name": "stderr",
     "output_type": "stream",
     "text": [
      "/home/zeus/miniconda3/envs/cloudspace/lib/python3.10/site-packages/cuml/internals/api_decorators.py:344: UserWarning: Starting from version 22.04, the default method of TSNE is 'fft'.\n",
      "  return func(**kwargs)\n"
     ]
    },
    {
     "name": "stdout",
     "output_type": "stream",
     "text": [
      "Starting t-SNE dimensionality reduction...\n",
      "t-SNE completed in 56.44 seconds.\n",
      "Spearman Correlation for perplexity=25: 0.0876\n",
      "\n",
      "Performing t-SNE with perplexity=35...\n",
      "Loading embeddings into GPU memory and initializing t-SNE with 2 dimensions...\n"
     ]
    },
    {
     "name": "stderr",
     "output_type": "stream",
     "text": [
      "/home/zeus/miniconda3/envs/cloudspace/lib/python3.10/site-packages/cuml/internals/api_decorators.py:344: UserWarning: Starting from version 22.04, the default method of TSNE is 'fft'.\n",
      "  return func(**kwargs)\n"
     ]
    },
    {
     "name": "stdout",
     "output_type": "stream",
     "text": [
      "Starting t-SNE dimensionality reduction...\n",
      "t-SNE completed in 57.13 seconds.\n",
      "Spearman Correlation for perplexity=35: -0.0006\n",
      "\n",
      "Performing t-SNE with perplexity=45...\n",
      "Loading embeddings into GPU memory and initializing t-SNE with 2 dimensions...\n"
     ]
    },
    {
     "name": "stderr",
     "output_type": "stream",
     "text": [
      "/home/zeus/miniconda3/envs/cloudspace/lib/python3.10/site-packages/cuml/internals/api_decorators.py:344: UserWarning: Starting from version 22.04, the default method of TSNE is 'fft'.\n",
      "  return func(**kwargs)\n"
     ]
    },
    {
     "name": "stdout",
     "output_type": "stream",
     "text": [
      "Starting t-SNE dimensionality reduction...\n",
      "t-SNE completed in 57.05 seconds.\n",
      "Spearman Correlation for perplexity=45: 0.0504\n",
      "\n",
      "Performing t-SNE with perplexity=55...\n",
      "Loading embeddings into GPU memory and initializing t-SNE with 2 dimensions...\n"
     ]
    },
    {
     "name": "stderr",
     "output_type": "stream",
     "text": [
      "/home/zeus/miniconda3/envs/cloudspace/lib/python3.10/site-packages/cuml/internals/api_decorators.py:344: UserWarning: Starting from version 22.04, the default method of TSNE is 'fft'.\n",
      "  return func(**kwargs)\n"
     ]
    },
    {
     "name": "stdout",
     "output_type": "stream",
     "text": [
      "Starting t-SNE dimensionality reduction...\n",
      "t-SNE completed in 57.02 seconds.\n",
      "Spearman Correlation for perplexity=55: 0.0535\n",
      "\n",
      "Performing t-SNE with perplexity=65...\n",
      "Loading embeddings into GPU memory and initializing t-SNE with 2 dimensions...\n"
     ]
    },
    {
     "name": "stderr",
     "output_type": "stream",
     "text": [
      "/home/zeus/miniconda3/envs/cloudspace/lib/python3.10/site-packages/cuml/internals/api_decorators.py:344: UserWarning: Starting from version 22.04, the default method of TSNE is 'fft'.\n",
      "  return func(**kwargs)\n"
     ]
    },
    {
     "name": "stdout",
     "output_type": "stream",
     "text": [
      "Starting t-SNE dimensionality reduction...\n",
      "t-SNE completed in 57.19 seconds.\n",
      "Spearman Correlation for perplexity=65: 0.0478\n",
      "\n",
      "Performing t-SNE with perplexity=75...\n",
      "Loading embeddings into GPU memory and initializing t-SNE with 2 dimensions...\n"
     ]
    },
    {
     "name": "stderr",
     "output_type": "stream",
     "text": [
      "/home/zeus/miniconda3/envs/cloudspace/lib/python3.10/site-packages/cuml/internals/api_decorators.py:344: UserWarning: Starting from version 22.04, the default method of TSNE is 'fft'.\n",
      "  return func(**kwargs)\n"
     ]
    },
    {
     "name": "stdout",
     "output_type": "stream",
     "text": [
      "Starting t-SNE dimensionality reduction...\n",
      "t-SNE completed in 56.97 seconds.\n",
      "Spearman Correlation for perplexity=75: 0.0674\n",
      "\n",
      "Performing t-SNE with perplexity=85...\n",
      "Loading embeddings into GPU memory and initializing t-SNE with 2 dimensions...\n"
     ]
    },
    {
     "name": "stderr",
     "output_type": "stream",
     "text": [
      "/home/zeus/miniconda3/envs/cloudspace/lib/python3.10/site-packages/cuml/internals/api_decorators.py:344: UserWarning: Starting from version 22.04, the default method of TSNE is 'fft'.\n",
      "  return func(**kwargs)\n"
     ]
    },
    {
     "name": "stdout",
     "output_type": "stream",
     "text": [
      "Starting t-SNE dimensionality reduction...\n",
      "t-SNE completed in 57.03 seconds.\n",
      "Spearman Correlation for perplexity=85: 0.0959\n",
      "\n",
      "Performing t-SNE with perplexity=95...\n",
      "Loading embeddings into GPU memory and initializing t-SNE with 2 dimensions...\n"
     ]
    },
    {
     "name": "stderr",
     "output_type": "stream",
     "text": [
      "/home/zeus/miniconda3/envs/cloudspace/lib/python3.10/site-packages/cuml/internals/api_decorators.py:344: UserWarning: Starting from version 22.04, the default method of TSNE is 'fft'.\n",
      "  return func(**kwargs)\n"
     ]
    },
    {
     "name": "stdout",
     "output_type": "stream",
     "text": [
      "Starting t-SNE dimensionality reduction...\n",
      "t-SNE completed in 56.46 seconds.\n",
      "Spearman Correlation for perplexity=95: 0.0013\n",
      "\n",
      "Summary of Spearman correlations across perplexities:\n",
      "Perplexity=5: Spearman Correlation=0.0640\n",
      "Perplexity=15: Spearman Correlation=0.0542\n",
      "Perplexity=25: Spearman Correlation=0.0876\n",
      "Perplexity=35: Spearman Correlation=-0.0006\n",
      "Perplexity=45: Spearman Correlation=0.0504\n",
      "Perplexity=55: Spearman Correlation=0.0535\n",
      "Perplexity=65: Spearman Correlation=0.0478\n",
      "Perplexity=75: Spearman Correlation=0.0674\n",
      "Perplexity=85: Spearman Correlation=0.0959\n",
      "Perplexity=95: Spearman Correlation=0.0013\n",
      "BEST Spearman Correlation =  0.09593815568415685\n"
     ]
    }
   ],
   "source": [
    "# Initialize a dictionary to store results for each perplexity value\n",
    "results = {}\n",
    "best_result = -100.0\n",
    "optimized_embeddings3 = None\n",
    "\n",
    "# List of perplexity values to evaluate\n",
    "perplexities = [5, 15, 25, 35, 45, 55, 65, 75, 85, 95]\n",
    "# Perform t-SNE and evaluate embeddings for each perplexity value\n",
    "for perplexity in perplexities:\n",
    "    print(f\"\\nPerforming t-SNE with perplexity={perplexity}...\")\n",
    "    \n",
    "    # Perform t-SNE dimensionality reduction\n",
    "    reduced_embeddings = tsne_dimensionality_reduction(original_model.vectors, target_dim=2, perplexity=perplexity, learning_rate=200)\n",
    "    \n",
    "    # Create a dictionary with the reduced embeddings for evaluation\n",
    "    reduced_model = {word: reduced_embeddings[i] for i, word in enumerate(original_model.index_to_key)}\n",
    "    \n",
    "    # Evaluate the reduced embeddings on SimLex-999\n",
    "    correlation = evaluate_embeddings(reduced_model, word_pairs)\n",
    "    \n",
    "    # Store results\n",
    "    results[perplexity] = correlation\n",
    "\n",
    "    if(correlation > best_result):\n",
    "        best_result = correlation\n",
    "        optimized_embeddings3 = reduced_embeddings\n",
    "    \n",
    "    # Print Spearman correlation for the current perplexity\n",
    "    print(f\"Spearman Correlation for perplexity={perplexity}: {correlation:.4f}\")\n",
    "\n",
    "# Print a summary of all results\n",
    "print(\"\\nSummary of Spearman correlations across perplexities:\")\n",
    "for perplexity, correlation in results.items():\n",
    "    print(f\"Perplexity={perplexity}: Spearman Correlation={correlation:.4f}\")\n",
    "\n",
    "print(\"BEST Spearman Correlation = \", best_result)"
   ]
  },
  {
   "cell_type": "code",
   "execution_count": 9,
   "metadata": {},
   "outputs": [
    {
     "name": "stdout",
     "output_type": "stream",
     "text": [
      "\n",
      "Performing t-SNE with perplexity=5...\n",
      "Loading embeddings into GPU memory and initializing t-SNE with 2 dimensions...\n"
     ]
    },
    {
     "name": "stderr",
     "output_type": "stream",
     "text": [
      "/home/zeus/miniconda3/envs/cloudspace/lib/python3.10/site-packages/cuml/internals/api_decorators.py:344: UserWarning: Starting from version 22.04, the default method of TSNE is 'fft'.\n",
      "  return func(**kwargs)\n"
     ]
    },
    {
     "name": "stdout",
     "output_type": "stream",
     "text": [
      "Starting t-SNE dimensionality reduction...\n",
      "t-SNE completed in 56.66 seconds.\n",
      "Spearman Correlation for perplexity=5: 0.1305\n",
      "\n",
      "Performing t-SNE with perplexity=15...\n",
      "Loading embeddings into GPU memory and initializing t-SNE with 2 dimensions...\n"
     ]
    },
    {
     "name": "stderr",
     "output_type": "stream",
     "text": [
      "/home/zeus/miniconda3/envs/cloudspace/lib/python3.10/site-packages/cuml/internals/api_decorators.py:344: UserWarning: Starting from version 22.04, the default method of TSNE is 'fft'.\n",
      "  return func(**kwargs)\n"
     ]
    },
    {
     "name": "stdout",
     "output_type": "stream",
     "text": [
      "Starting t-SNE dimensionality reduction...\n",
      "t-SNE completed in 56.35 seconds.\n",
      "Spearman Correlation for perplexity=15: 0.0565\n",
      "\n",
      "Performing t-SNE with perplexity=25...\n",
      "Loading embeddings into GPU memory and initializing t-SNE with 2 dimensions...\n"
     ]
    },
    {
     "name": "stderr",
     "output_type": "stream",
     "text": [
      "/home/zeus/miniconda3/envs/cloudspace/lib/python3.10/site-packages/cuml/internals/api_decorators.py:344: UserWarning: Starting from version 22.04, the default method of TSNE is 'fft'.\n",
      "  return func(**kwargs)\n"
     ]
    },
    {
     "name": "stdout",
     "output_type": "stream",
     "text": [
      "Starting t-SNE dimensionality reduction...\n",
      "t-SNE completed in 56.33 seconds.\n",
      "Spearman Correlation for perplexity=25: 0.1173\n",
      "\n",
      "Performing t-SNE with perplexity=35...\n",
      "Loading embeddings into GPU memory and initializing t-SNE with 2 dimensions...\n"
     ]
    },
    {
     "name": "stderr",
     "output_type": "stream",
     "text": [
      "/home/zeus/miniconda3/envs/cloudspace/lib/python3.10/site-packages/cuml/internals/api_decorators.py:344: UserWarning: Starting from version 22.04, the default method of TSNE is 'fft'.\n",
      "  return func(**kwargs)\n"
     ]
    },
    {
     "name": "stdout",
     "output_type": "stream",
     "text": [
      "Starting t-SNE dimensionality reduction...\n",
      "t-SNE completed in 56.35 seconds.\n",
      "Spearman Correlation for perplexity=35: 0.1112\n",
      "\n",
      "Performing t-SNE with perplexity=45...\n",
      "Loading embeddings into GPU memory and initializing t-SNE with 2 dimensions...\n"
     ]
    },
    {
     "name": "stderr",
     "output_type": "stream",
     "text": [
      "/home/zeus/miniconda3/envs/cloudspace/lib/python3.10/site-packages/cuml/internals/api_decorators.py:344: UserWarning: Starting from version 22.04, the default method of TSNE is 'fft'.\n",
      "  return func(**kwargs)\n"
     ]
    },
    {
     "name": "stdout",
     "output_type": "stream",
     "text": [
      "Starting t-SNE dimensionality reduction...\n",
      "t-SNE completed in 57.07 seconds.\n",
      "Spearman Correlation for perplexity=45: 0.0273\n",
      "\n",
      "Performing t-SNE with perplexity=55...\n",
      "Loading embeddings into GPU memory and initializing t-SNE with 2 dimensions...\n"
     ]
    },
    {
     "name": "stderr",
     "output_type": "stream",
     "text": [
      "/home/zeus/miniconda3/envs/cloudspace/lib/python3.10/site-packages/cuml/internals/api_decorators.py:344: UserWarning: Starting from version 22.04, the default method of TSNE is 'fft'.\n",
      "  return func(**kwargs)\n"
     ]
    },
    {
     "name": "stdout",
     "output_type": "stream",
     "text": [
      "Starting t-SNE dimensionality reduction...\n",
      "t-SNE completed in 56.69 seconds.\n",
      "Spearman Correlation for perplexity=55: 0.0873\n",
      "\n",
      "Performing t-SNE with perplexity=65...\n",
      "Loading embeddings into GPU memory and initializing t-SNE with 2 dimensions...\n"
     ]
    },
    {
     "name": "stderr",
     "output_type": "stream",
     "text": [
      "/home/zeus/miniconda3/envs/cloudspace/lib/python3.10/site-packages/cuml/internals/api_decorators.py:344: UserWarning: Starting from version 22.04, the default method of TSNE is 'fft'.\n",
      "  return func(**kwargs)\n"
     ]
    },
    {
     "name": "stdout",
     "output_type": "stream",
     "text": [
      "Starting t-SNE dimensionality reduction...\n",
      "t-SNE completed in 56.55 seconds.\n",
      "Spearman Correlation for perplexity=65: 0.0821\n",
      "\n",
      "Performing t-SNE with perplexity=75...\n",
      "Loading embeddings into GPU memory and initializing t-SNE with 2 dimensions...\n"
     ]
    },
    {
     "name": "stderr",
     "output_type": "stream",
     "text": [
      "/home/zeus/miniconda3/envs/cloudspace/lib/python3.10/site-packages/cuml/internals/api_decorators.py:344: UserWarning: Starting from version 22.04, the default method of TSNE is 'fft'.\n",
      "  return func(**kwargs)\n"
     ]
    },
    {
     "name": "stdout",
     "output_type": "stream",
     "text": [
      "Starting t-SNE dimensionality reduction...\n",
      "t-SNE completed in 56.80 seconds.\n",
      "Spearman Correlation for perplexity=75: 0.0622\n",
      "\n",
      "Performing t-SNE with perplexity=85...\n",
      "Loading embeddings into GPU memory and initializing t-SNE with 2 dimensions...\n"
     ]
    },
    {
     "name": "stderr",
     "output_type": "stream",
     "text": [
      "/home/zeus/miniconda3/envs/cloudspace/lib/python3.10/site-packages/cuml/internals/api_decorators.py:344: UserWarning: Starting from version 22.04, the default method of TSNE is 'fft'.\n",
      "  return func(**kwargs)\n"
     ]
    },
    {
     "name": "stdout",
     "output_type": "stream",
     "text": [
      "Starting t-SNE dimensionality reduction...\n",
      "t-SNE completed in 56.88 seconds.\n",
      "Spearman Correlation for perplexity=85: 0.0953\n",
      "\n",
      "Performing t-SNE with perplexity=95...\n",
      "Loading embeddings into GPU memory and initializing t-SNE with 2 dimensions...\n"
     ]
    },
    {
     "name": "stderr",
     "output_type": "stream",
     "text": [
      "/home/zeus/miniconda3/envs/cloudspace/lib/python3.10/site-packages/cuml/internals/api_decorators.py:344: UserWarning: Starting from version 22.04, the default method of TSNE is 'fft'.\n",
      "  return func(**kwargs)\n"
     ]
    },
    {
     "name": "stdout",
     "output_type": "stream",
     "text": [
      "Starting t-SNE dimensionality reduction...\n",
      "t-SNE completed in 56.96 seconds.\n",
      "Spearman Correlation for perplexity=95: 0.0228\n",
      "\n",
      "Summary of Spearman correlations across perplexities:\n",
      "Perplexity=5: Spearman Correlation=0.1305\n",
      "Perplexity=15: Spearman Correlation=0.0565\n",
      "Perplexity=25: Spearman Correlation=0.1173\n",
      "Perplexity=35: Spearman Correlation=0.1112\n",
      "Perplexity=45: Spearman Correlation=0.0273\n",
      "Perplexity=55: Spearman Correlation=0.0873\n",
      "Perplexity=65: Spearman Correlation=0.0821\n",
      "Perplexity=75: Spearman Correlation=0.0622\n",
      "Perplexity=85: Spearman Correlation=0.0953\n",
      "Perplexity=95: Spearman Correlation=0.0228\n",
      "BEST Spearman Correlation =  0.13052955552299902\n"
     ]
    }
   ],
   "source": [
    "# Initialize a dictionary to store results for each perplexity value\n",
    "results = {}\n",
    "best_result = -100.0\n",
    "optimized_embeddings4 = None\n",
    "\n",
    "# List of perplexity values to evaluate\n",
    "perplexities = [5, 15, 25, 35, 45, 55, 65, 75, 85, 95]\n",
    "# Perform t-SNE and evaluate embeddings for each perplexity value\n",
    "for perplexity in perplexities:\n",
    "    print(f\"\\nPerforming t-SNE with perplexity={perplexity}...\")\n",
    "    \n",
    "    # Perform t-SNE dimensionality reduction\n",
    "    reduced_embeddings = tsne_dimensionality_reduction(original_model.vectors, target_dim=2, perplexity=perplexity, learning_rate=200)\n",
    "    \n",
    "    # Create a dictionary with the reduced embeddings for evaluation\n",
    "    reduced_model = {word: reduced_embeddings[i] for i, word in enumerate(original_model.index_to_key)}\n",
    "    \n",
    "    # Evaluate the reduced embeddings on SimLex-999\n",
    "    correlation = evaluate_embeddings(reduced_model, word_pairs)\n",
    "    \n",
    "    # Store results\n",
    "    results[perplexity] = correlation\n",
    "\n",
    "    if(correlation > best_result):\n",
    "        best_result = correlation\n",
    "        optimized_embeddings4 = reduced_embeddings\n",
    "    \n",
    "    # Print Spearman correlation for the current perplexity\n",
    "    print(f\"Spearman Correlation for perplexity={perplexity}: {correlation:.4f}\")\n",
    "\n",
    "# Print a summary of all results\n",
    "print(\"\\nSummary of Spearman correlations across perplexities:\")\n",
    "for perplexity, correlation in results.items():\n",
    "    print(f\"Perplexity={perplexity}: Spearman Correlation={correlation:.4f}\")\n",
    "\n",
    "print(\"BEST Spearman Correlation = \", best_result)"
   ]
  },
  {
   "cell_type": "code",
   "execution_count": 10,
   "metadata": {},
   "outputs": [
    {
     "name": "stdout",
     "output_type": "stream",
     "text": [
      "\n",
      "Performing t-SNE with perplexity=5...\n",
      "Loading embeddings into GPU memory and initializing t-SNE with 2 dimensions...\n"
     ]
    },
    {
     "name": "stderr",
     "output_type": "stream",
     "text": [
      "/home/zeus/miniconda3/envs/cloudspace/lib/python3.10/site-packages/cuml/internals/api_decorators.py:344: UserWarning: Starting from version 22.04, the default method of TSNE is 'fft'.\n",
      "  return func(**kwargs)\n"
     ]
    },
    {
     "name": "stdout",
     "output_type": "stream",
     "text": [
      "Starting t-SNE dimensionality reduction...\n",
      "t-SNE completed in 56.74 seconds.\n",
      "Spearman Correlation for perplexity=5: 0.0889\n",
      "\n",
      "Performing t-SNE with perplexity=15...\n",
      "Loading embeddings into GPU memory and initializing t-SNE with 2 dimensions...\n"
     ]
    },
    {
     "name": "stderr",
     "output_type": "stream",
     "text": [
      "/home/zeus/miniconda3/envs/cloudspace/lib/python3.10/site-packages/cuml/internals/api_decorators.py:344: UserWarning: Starting from version 22.04, the default method of TSNE is 'fft'.\n",
      "  return func(**kwargs)\n"
     ]
    },
    {
     "name": "stdout",
     "output_type": "stream",
     "text": [
      "Starting t-SNE dimensionality reduction...\n",
      "t-SNE completed in 56.63 seconds.\n",
      "Spearman Correlation for perplexity=15: 0.0772\n",
      "\n",
      "Performing t-SNE with perplexity=25...\n",
      "Loading embeddings into GPU memory and initializing t-SNE with 2 dimensions...\n"
     ]
    },
    {
     "name": "stderr",
     "output_type": "stream",
     "text": [
      "/home/zeus/miniconda3/envs/cloudspace/lib/python3.10/site-packages/cuml/internals/api_decorators.py:344: UserWarning: Starting from version 22.04, the default method of TSNE is 'fft'.\n",
      "  return func(**kwargs)\n"
     ]
    },
    {
     "name": "stdout",
     "output_type": "stream",
     "text": [
      "Starting t-SNE dimensionality reduction...\n",
      "t-SNE completed in 56.81 seconds.\n",
      "Spearman Correlation for perplexity=25: 0.0461\n",
      "\n",
      "Performing t-SNE with perplexity=35...\n",
      "Loading embeddings into GPU memory and initializing t-SNE with 2 dimensions...\n"
     ]
    },
    {
     "name": "stderr",
     "output_type": "stream",
     "text": [
      "/home/zeus/miniconda3/envs/cloudspace/lib/python3.10/site-packages/cuml/internals/api_decorators.py:344: UserWarning: Starting from version 22.04, the default method of TSNE is 'fft'.\n",
      "  return func(**kwargs)\n"
     ]
    },
    {
     "name": "stdout",
     "output_type": "stream",
     "text": [
      "Starting t-SNE dimensionality reduction...\n",
      "t-SNE completed in 57.03 seconds.\n",
      "Spearman Correlation for perplexity=35: 0.0885\n",
      "\n",
      "Performing t-SNE with perplexity=45...\n",
      "Loading embeddings into GPU memory and initializing t-SNE with 2 dimensions...\n"
     ]
    },
    {
     "name": "stderr",
     "output_type": "stream",
     "text": [
      "/home/zeus/miniconda3/envs/cloudspace/lib/python3.10/site-packages/cuml/internals/api_decorators.py:344: UserWarning: Starting from version 22.04, the default method of TSNE is 'fft'.\n",
      "  return func(**kwargs)\n"
     ]
    },
    {
     "name": "stdout",
     "output_type": "stream",
     "text": [
      "Starting t-SNE dimensionality reduction...\n",
      "t-SNE completed in 56.44 seconds.\n",
      "Spearman Correlation for perplexity=45: 0.0441\n",
      "\n",
      "Performing t-SNE with perplexity=55...\n",
      "Loading embeddings into GPU memory and initializing t-SNE with 2 dimensions...\n"
     ]
    },
    {
     "name": "stderr",
     "output_type": "stream",
     "text": [
      "/home/zeus/miniconda3/envs/cloudspace/lib/python3.10/site-packages/cuml/internals/api_decorators.py:344: UserWarning: Starting from version 22.04, the default method of TSNE is 'fft'.\n",
      "  return func(**kwargs)\n"
     ]
    },
    {
     "name": "stdout",
     "output_type": "stream",
     "text": [
      "Starting t-SNE dimensionality reduction...\n",
      "t-SNE completed in 56.97 seconds.\n",
      "Spearman Correlation for perplexity=55: 0.0544\n",
      "\n",
      "Performing t-SNE with perplexity=65...\n",
      "Loading embeddings into GPU memory and initializing t-SNE with 2 dimensions...\n"
     ]
    },
    {
     "name": "stderr",
     "output_type": "stream",
     "text": [
      "/home/zeus/miniconda3/envs/cloudspace/lib/python3.10/site-packages/cuml/internals/api_decorators.py:344: UserWarning: Starting from version 22.04, the default method of TSNE is 'fft'.\n",
      "  return func(**kwargs)\n"
     ]
    },
    {
     "name": "stdout",
     "output_type": "stream",
     "text": [
      "Starting t-SNE dimensionality reduction...\n",
      "t-SNE completed in 56.62 seconds.\n",
      "Spearman Correlation for perplexity=65: 0.0574\n",
      "\n",
      "Performing t-SNE with perplexity=75...\n",
      "Loading embeddings into GPU memory and initializing t-SNE with 2 dimensions...\n"
     ]
    },
    {
     "name": "stderr",
     "output_type": "stream",
     "text": [
      "/home/zeus/miniconda3/envs/cloudspace/lib/python3.10/site-packages/cuml/internals/api_decorators.py:344: UserWarning: Starting from version 22.04, the default method of TSNE is 'fft'.\n",
      "  return func(**kwargs)\n"
     ]
    },
    {
     "name": "stdout",
     "output_type": "stream",
     "text": [
      "Starting t-SNE dimensionality reduction...\n",
      "t-SNE completed in 56.62 seconds.\n",
      "Spearman Correlation for perplexity=75: 0.0157\n",
      "\n",
      "Performing t-SNE with perplexity=85...\n",
      "Loading embeddings into GPU memory and initializing t-SNE with 2 dimensions...\n"
     ]
    },
    {
     "name": "stderr",
     "output_type": "stream",
     "text": [
      "/home/zeus/miniconda3/envs/cloudspace/lib/python3.10/site-packages/cuml/internals/api_decorators.py:344: UserWarning: Starting from version 22.04, the default method of TSNE is 'fft'.\n",
      "  return func(**kwargs)\n"
     ]
    },
    {
     "name": "stdout",
     "output_type": "stream",
     "text": [
      "Starting t-SNE dimensionality reduction...\n",
      "t-SNE completed in 56.36 seconds.\n",
      "Spearman Correlation for perplexity=85: 0.0940\n",
      "\n",
      "Performing t-SNE with perplexity=95...\n",
      "Loading embeddings into GPU memory and initializing t-SNE with 2 dimensions...\n"
     ]
    },
    {
     "name": "stderr",
     "output_type": "stream",
     "text": [
      "/home/zeus/miniconda3/envs/cloudspace/lib/python3.10/site-packages/cuml/internals/api_decorators.py:344: UserWarning: Starting from version 22.04, the default method of TSNE is 'fft'.\n",
      "  return func(**kwargs)\n"
     ]
    },
    {
     "name": "stdout",
     "output_type": "stream",
     "text": [
      "Starting t-SNE dimensionality reduction...\n",
      "t-SNE completed in 57.36 seconds.\n",
      "Spearman Correlation for perplexity=95: 0.0270\n",
      "\n",
      "Summary of Spearman correlations across perplexities:\n",
      "Perplexity=5: Spearman Correlation=0.0889\n",
      "Perplexity=15: Spearman Correlation=0.0772\n",
      "Perplexity=25: Spearman Correlation=0.0461\n",
      "Perplexity=35: Spearman Correlation=0.0885\n",
      "Perplexity=45: Spearman Correlation=0.0441\n",
      "Perplexity=55: Spearman Correlation=0.0544\n",
      "Perplexity=65: Spearman Correlation=0.0574\n",
      "Perplexity=75: Spearman Correlation=0.0157\n",
      "Perplexity=85: Spearman Correlation=0.0940\n",
      "Perplexity=95: Spearman Correlation=0.0270\n",
      "BEST Spearman Correlation =  0.09404071644949805\n"
     ]
    }
   ],
   "source": [
    "# Initialize a dictionary to store results for each perplexity value\n",
    "results = {}\n",
    "best_result = -100.0\n",
    "optimized_embeddings5 = None\n",
    "\n",
    "# List of perplexity values to evaluate\n",
    "perplexities = [5, 15, 25, 35, 45, 55, 65, 75, 85, 95]\n",
    "# Perform t-SNE and evaluate embeddings for each perplexity value\n",
    "for perplexity in perplexities:\n",
    "    print(f\"\\nPerforming t-SNE with perplexity={perplexity}...\")\n",
    "    \n",
    "    # Perform t-SNE dimensionality reduction\n",
    "    reduced_embeddings = tsne_dimensionality_reduction(original_model.vectors, target_dim=2, perplexity=perplexity, learning_rate=200)\n",
    "    \n",
    "    # Create a dictionary with the reduced embeddings for evaluation\n",
    "    reduced_model = {word: reduced_embeddings[i] for i, word in enumerate(original_model.index_to_key)}\n",
    "    \n",
    "    # Evaluate the reduced embeddings on SimLex-999\n",
    "    correlation = evaluate_embeddings(reduced_model, word_pairs)\n",
    "    \n",
    "    # Store results\n",
    "    results[perplexity] = correlation\n",
    "\n",
    "    if(correlation > best_result):\n",
    "        best_result = correlation\n",
    "        optimized_embeddings5 = reduced_embeddings\n",
    "    \n",
    "    # Print Spearman correlation for the current perplexity\n",
    "    print(f\"Spearman Correlation for perplexity={perplexity}: {correlation:.4f}\")\n",
    "\n",
    "# Print a summary of all results\n",
    "print(\"\\nSummary of Spearman correlations across perplexities:\")\n",
    "for perplexity, correlation in results.items():\n",
    "    print(f\"Perplexity={perplexity}: Spearman Correlation={correlation:.4f}\")\n",
    "\n",
    "print(\"BEST Spearman Correlation = \", best_result)"
   ]
  },
  {
   "cell_type": "code",
   "execution_count": 16,
   "metadata": {},
   "outputs": [],
   "source": [
    "import pandas as pd\n",
    "\n",
    "# Save the 2D embeddings with word labels to a CSV file\n",
    "def save_embeddings_to_csv(words, embeddings, file_path):\n",
    "    print(f\"Saving 2D embeddings to {file_path}...\")\n",
    "    df = pd.DataFrame(embeddings, columns=['x', 'y'])\n",
    "    df['word'] = words\n",
    "    df.to_csv(file_path, index=False)\n",
    "    print(\"2D embeddings saved successfully.\")"
   ]
  },
  {
   "cell_type": "code",
   "execution_count": 17,
   "metadata": {},
   "outputs": [
    {
     "name": "stdout",
     "output_type": "stream",
     "text": [
      "Saving 2D embeddings to Glove_TSNE_2d_word_embeddings_1659.csv...\n"
     ]
    },
    {
     "name": "stdout",
     "output_type": "stream",
     "text": [
      "2D embeddings saved successfully.\n"
     ]
    }
   ],
   "source": [
    "# Get words and their high-dimensional embeddings\n",
    "words = original_model.index_to_key  # List of words in vocabulary\n",
    "######### RENAME AS PER THE BEST RESULT\n",
    "file_path=\"Glove_TSNE_2d_word_embeddings_1659.csv\"\n",
    "# Save the embeddings and words to a CSV file\n",
    "######### UPDATE THE optimized_embeddings variable as per the best result\n",
    "save_embeddings_to_csv(words, optimized_embeddings1, file_path)"
   ]
  },
  {
   "cell_type": "code",
   "execution_count": 18,
   "metadata": {},
   "outputs": [
    {
     "data": {
      "image/png": "[encoded data removed]",
      "text/plain": [
       "<Figure size 1000x600 with 1 Axes>"
      ]
     },
     "metadata": {},
     "output_type": "display_data"
    }
   ],
   "source": [
    "import matplotlib.pyplot as plt\n",
    "# Define the perplexity values and their corresponding Spearman correlations\n",
    "perplexities = [5, 15, 25, 35, 45, 55, 65, 75, 85, 95]\n",
    "correlations = [results[perplexity] for perplexity in perplexities]\n",
    "\n",
    "# Plot the data\n",
    "plt.figure(figsize=(10, 6))\n",
    "plt.plot(perplexities, correlations, marker='o', linestyle='-', color='r', label=\"Spearman Correlation\")\n",
    "\n",
    "# Add labels and title\n",
    "plt.title(\"Spearman Correlation vs Perplexity\", fontsize=14)\n",
    "plt.xlabel(\"Perplexity\", fontsize=12)\n",
    "plt.ylabel(\"Spearman Correlation Coefficient\", fontsize=12)\n",
    "plt.grid(True, linestyle='--', alpha=0.6)\n",
    "\n",
    "# Annotate points\n",
    "for i, (x, y) in enumerate(zip(perplexities, correlations)):\n",
    "    plt.text(x, y, f\"{y:.3f}\", fontsize=10, ha='center', va='bottom')\n",
    "\n",
    "# Show legend\n",
    "plt.legend()\n",
    "\n",
    "# Display the plot\n",
    "plt.show()"
   ]
  },
  {
   "cell_type": "code",
   "execution_count": 1,
   "metadata": {},
   "outputs": [
    {
     "data": {
      "image/png": "[encoded data removed]",
      "text/plain": [
       "<Figure size 640x480 with 1 Axes>"
      ]
     },
     "metadata": {},
     "output_type": "display_data"
    }
   ],
   "source": [
    "import matplotlib.pyplot as plt\n",
    "\n",
    "# spearman_correlations_n5 = [0.2166, 0.1728, 0.1662, 0.2061, 0.2228, 0.1463, 0.2007, 0.1542, 0.2303, 0.1846]\n",
    "# spearman_correlations_n10 = [0.2162, 0.2117, 0.2200, 0.1586, 0.1735, 0.1282, 0.1075, 0.1819, 0.1434, 0.1709]\n",
    "# spearman_correlations_n15 = [0.2391, 0.2319, 0.1743, 0.1967, 0.2112, 0.2084, 0.1760, 0.1957, 0.1889, 0.1718]\n",
    "# spearman_correlations_n20 = [0.2467, 0.2074, 0.1986, 0.2203, 0.1701, 0.1653, 0.1956, 0.1588, 0.1410, 0.1697]\n",
    "# spearman_correlations_n25 = [0.2103, 0.2334, 0.2004, 0.1760, 0.2004, 0.2021, 0.1766, 0.2071, 0.1895, 0.1689]\n",
    "\n",
    "spearman_correlations_list1 = [0.1138, 0.1660, 0.1300, 0.0948, 0.0385, 0.0945, 0.0933, 0.0049, -0.0277, 0.0338]\n",
    "spearman_correlations_list2 = [0.1399, 0.1507, 0.0298, 0.0412, 0.0276, 0.0796, 0.1047, 0.0358, 0.0874, 0.0374]\n",
    "spearman_correlations_list3 = [0.0640, 0.0542, 0.0876, -0.0006, 0.0504, 0.0535, 0.0478, 0.0674, 0.0959, 0.0013]\n",
    "spearman_correlations_list4 = [0.1305, 0.0565, 0.1173, 0.1112, 0.0273, 0.0873, 0.0821, 0.0622, 0.0953, 0.0228]\n",
    "spearman_correlations_list5 = [0.0889, 0.0772, 0.0461, 0.0885, 0.0441, 0.0544, 0.0574, 0.0157, 0.0940, 0.0270]\n",
    "\n",
    "# Combine all lists into a single list of lists\n",
    "# all_lists = [\n",
    "#     spearman_correlations_n5,\n",
    "#     spearman_correlations_n10,\n",
    "#     spearman_correlations_n15,\n",
    "#     spearman_correlations_n20,\n",
    "#     spearman_correlations_n25,\n",
    "# ]\n",
    "all_lists = [\n",
    "    spearman_correlations_list1,\n",
    "    spearman_correlations_list2,\n",
    "    spearman_correlations_list3,\n",
    "    spearman_correlations_list4,\n",
    "    spearman_correlations_list5,\n",
    "]\n",
    "\n",
    "# Calculate the average value for each index across all lists\n",
    "index_averages = []\n",
    "for i in range(len(spearman_correlations_list1)):  # Iterate through indices (0 to 9)\n",
    "    index_values = [lst[i] for lst in all_lists]  # Get the value at index i from each list\n",
    "    index_average = sum(index_values) / len(index_values)\n",
    "    index_averages.append(index_average)\n",
    "\n",
    "# Create a list of index numbers for the x-axis\n",
    "index_numbers = list(range(1, len(spearman_correlations_list1) + 1))  # 1 to 10\n",
    "\n",
    "# Plot the index averages in a line graph\n",
    "plt.plot(index_numbers, index_averages, marker='o')\n",
    "\n",
    "# Add labels and title\n",
    "plt.xlabel(\"Index Number\")\n",
    "plt.ylabel(\"Average Spearman Correlation\")\n",
    "plt.title(\"Average Spearman Correlation Across Different n Values for Each Index\")\n",
    "\n",
    "# Customize the x-axis ticks\n",
    "plt.xticks(index_numbers)\n",
    "\n",
    "# Display the plot\n",
    "plt.show()"
   ]
  },
  {
   "cell_type": "code",
   "execution_count": 12,
   "metadata": {},
   "outputs": [
    {
     "data": {
      "image/png": "[encoded data removed]",
      "text/plain": [
       "<Figure size 640x480 with 1 Axes>"
      ]
     },
     "metadata": {},
     "output_type": "display_data"
    }
   ],
   "source": [
    "import matplotlib.pyplot as plt\n",
    "\n",
    "spearman_correlations_list1 = [0.1138, 0.1660, 0.1300, 0.0948, 0.0385, 0.0945, 0.0933, 0.0049, -0.0277, 0.0338]\n",
    "spearman_correlations_list2 = [0.1399, 0.1507, 0.0298, 0.0412, 0.0276, 0.0796, 0.1047, 0.0358, 0.0874, 0.0374]\n",
    "spearman_correlations_list3 = [0.0640, 0.0542, 0.0876, -0.0006, 0.0504, 0.0535, 0.0478, 0.0674, 0.0959, 0.0013]\n",
    "spearman_correlations_list4 = [0.1305, 0.0565, 0.1173, 0.1112, 0.0273, 0.0873, 0.0821, 0.0622, 0.0953, 0.0228]\n",
    "spearman_correlations_list5 = [0.0889, 0.0772, 0.0461, 0.0885, 0.0441, 0.0544, 0.0574, 0.0157, 0.0940, 0.0270]\n",
    "\n",
    "all_lists = [\n",
    "    spearman_correlations_list1,\n",
    "    spearman_correlations_list2,\n",
    "    spearman_correlations_list3,\n",
    "    spearman_correlations_list4,\n",
    "    spearman_correlations_list5,\n",
    "]\n",
    "\n",
    "# Calculate the average value for each index across all lists\n",
    "index_averages = []\n",
    "for i in range(len(spearman_correlations_list1)):\n",
    "    index_values = [lst[i] for lst in all_lists]\n",
    "    index_average = sum(index_values) / len(index_values)\n",
    "    index_averages.append(index_average)\n",
    "\n",
    "# Create a list of perplexity values from 5 to 95 with intervals of 10\n",
    "perplexity_values = list(range(5, 96, 10))  # [5, 15, 25, ..., 85, 95]\n",
    "\n",
    "# Plot the index averages in a line graph\n",
    "plt.plot(perplexity_values, index_averages, marker='o')\n",
    "\n",
    "# Add labels and title\n",
    "plt.xlabel(\"Perplexity Value\")\n",
    "plt.ylabel(\"Average Spearman Correlation\")\n",
    "plt.title(\"Average Spearman Correlation Across Different Perplexity Values\")\n",
    "\n",
    "# Customize the x-axis ticks\n",
    "plt.xticks(perplexity_values)\n",
    "\n",
    "# Display the plot\n",
    "plt.show()"
   ]
  }
 ],
 "metadata": {
  "language_info": {
   "name": "python"
  }
 },
 "nbformat": 4,
 "nbformat_minor": 2
}
